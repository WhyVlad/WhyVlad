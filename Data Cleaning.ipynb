{
 "cells": [
  {
   "cell_type": "code",
   "execution_count": 110,
   "id": "ff5834d8",
   "metadata": {},
   "outputs": [],
   "source": [
    "# import urllib library\n",
    "from urllib.request import urlopen\n",
    "import pandas as pd\n",
    "# import json\n",
    "import json\n",
    "# store the URL in url as \n",
    "# parameter for urlopen\n",
    "url = \"https://dynasec.ez2xs.com/call/api.Acquisitie.getKandidatenOverzicht?kandidaatstatustype=&kandidaatstatus=&sort=status_asc&refkandidaatbron=&refkandidaatafwijzing=&refniveau4=&kandidaat_refniveau5=&refworkflow=&periode=&text=&show_memo=&show_verwerkt=&save_kandidaten_voorkeuremail=&save_kandidaten_tussenvoegsels=&kandidaat_refniveau5mark=&privecontext=&kandidaat_api=Acquisitie&kandidaat_filter=3&landscape=1&refrapport=&MAGIC=ODYwZGE4ODUyMTI0OGMxZDc0YjU4MjQ1ZmQ2NWM2OGNwiq9pHUoKqk6P_GW4qoc40R3ltysXIS9LbI3d8i5l3RY1cNAd1VM7PKZNgc7Yzrov40ATheyfOMHOGhrP2GFb\"\n",
    "  \n",
    "# print the json response\n",
    "df = pd.read_json(url)\n"
   ]
  },
  {
   "cell_type": "code",
   "execution_count": 111,
   "id": "863be6d2",
   "metadata": {},
   "outputs": [],
   "source": [
    "dff = pd.DataFrame.from_records(df[\"list\"], columns=[\"id\", \"budget\",\"niveau4naam\",\"land\",\"ks_naam\",\"datum\",\"percentage\",\"calcdeadline\"])"
   ]
  },
  {
   "cell_type": "code",
   "execution_count": 112,
   "id": "62b027a4",
   "metadata": {},
   "outputs": [],
   "source": [
    "dff = dff[dff['budget'].notna()]"
   ]
  },
  {
   "cell_type": "code",
   "execution_count": 113,
   "id": "b7cc34cb",
   "metadata": {},
   "outputs": [],
   "source": [
    "dff = dff[dff['budget'] != 0.0]"
   ]
  },
  {
   "cell_type": "code",
   "execution_count": 114,
   "id": "10c6f7fc",
   "metadata": {},
   "outputs": [
    {
     "data": {
      "text/plain": [
       "id                            float64\n",
       "budget                        float64\n",
       "niveau4naam                    object\n",
       "land                           object\n",
       "ks_naam                        object\n",
       "datum                          object\n",
       "percentage                      int64\n",
       "rekandidaatstelling_accept    float64\n",
       "calcdeadline                   object\n",
       "dtype: object"
      ]
     },
     "execution_count": 114,
     "metadata": {},
     "output_type": "execute_result"
    }
   ],
   "source": [
    "dff.dtypes"
   ]
  },
  {
   "cell_type": "code",
   "execution_count": 115,
   "id": "ee246943",
   "metadata": {},
   "outputs": [],
   "source": [
    "\n",
    "dff['rekandidaatstelling_accept'] = dff['rekandidaatstelling_accept'].fillna(0)"
   ]
  },
  {
   "cell_type": "code",
   "execution_count": 116,
   "id": "65ff8b9a",
   "metadata": {},
   "outputs": [
    {
     "name": "stdout",
     "output_type": "stream",
     "text": [
      "             id  budget                             niveau4naam  \\\n",
      "5     1396053.0  300000                       NSF International   \n",
      "6     1872343.0   62000                 3EC International a. s.   \n",
      "7     1695811.0  100000                  Swiss Safety Center AG   \n",
      "11    1643242.0   11000        Trust Conformity Assessment Body   \n",
      "12    1362929.0    8544       System Certification Services Ltd   \n",
      "...         ...     ...                                     ...   \n",
      "1361  1353164.0   80000                      TÜV InterCert GmbH   \n",
      "1477  1401602.0   20250              Emirates Safety Laboratory   \n",
      "1543  1372566.0   60068  TASNEEF-RINA Business Assurance L.L.C.   \n",
      "1549  1453744.0   10800                          DigiTrust B.V.   \n",
      "1660  1350055.0   12000      Belgisch Centrum Voor Certificatie   \n",
      "\n",
      "                              land                          ks_naam  \\\n",
      "5                        Frankrijk  042 Follow up Demo (1, 2 and 3)   \n",
      "6                        Slowakije  042 Follow up Demo (1, 2 and 3)   \n",
      "7                      Zwitserland  042 Follow up Demo (1, 2 and 3)   \n",
      "11                          Spanje           070 Contract agreement   \n",
      "12                         Ierland           070 Contract agreement   \n",
      "...                            ...                              ...   \n",
      "1361                     Duitsland                      098 Opt-out   \n",
      "1477  Verenigde Arabische Emiraten                 040 Arrange Demo   \n",
      "1543  Verenigde Arabische Emiraten              095 Signed contract   \n",
      "1549                     Nederland              095 Signed contract   \n",
      "1660                        België         091 Keep Alive (nurture)   \n",
      "\n",
      "           datum  percentage  rekandidaatstelling_accept calcdeadline  \n",
      "5     2021-11-01           0                           0   2021-11-08  \n",
      "6     2021-11-01          50                           0   2021-11-08  \n",
      "7     2021-10-28          20                           0   2021-11-04  \n",
      "11    2021-10-21          95                           0   2021-10-12  \n",
      "12    2021-10-21          95                           0   2021-10-28  \n",
      "...          ...         ...                         ...          ...  \n",
      "1361  2020-07-30          20                           0   2020-08-06  \n",
      "1477  2020-03-15           5                           0   2020-04-15  \n",
      "1543  2020-01-14         100                           0   2020-01-21  \n",
      "1549  2019-12-24         100                           0   2019-12-31  \n",
      "1660  2019-09-05           0                           0   2020-09-04  \n",
      "\n",
      "[66 rows x 9 columns]\n"
     ]
    }
   ],
   "source": [
    "mask = dff['budget'].apply(lambda x: x.is_integer())\n",
    "dff['budget'] = dff['budget'].astype(int)\n",
    "\n",
    "dff = dff[mask]\n",
    "\n",
    "mask2 = dff['rekandidaatstelling_accept'].apply(lambda x: x.is_integer())\n",
    "dff['rekandidaatstelling_accept'] = dff['rekandidaatstelling_accept'].astype(int)\n",
    "\n",
    "dff = dff[mask2]\n",
    "print (dff)"
   ]
  },
  {
   "cell_type": "code",
   "execution_count": 117,
   "id": "15c8de50",
   "metadata": {},
   "outputs": [],
   "source": [
    "dff = dff.reset_index()"
   ]
  },
  {
   "cell_type": "code",
   "execution_count": 121,
   "id": "ec407587",
   "metadata": {},
   "outputs": [
    {
     "name": "stdout",
     "output_type": "stream",
     "text": [
      "2021-11-01 2021-11-08\n",
      "2021-11-01 2021-11-08\n",
      "2021-10-28 2021-11-04\n",
      "2021-10-21 2021-10-12\n",
      "2021-10-21 2021-10-28\n",
      "2021-10-12 2021-10-19\n",
      "2021-10-12 2022-10-12\n",
      "2021-10-12 2022-10-12\n",
      "2021-10-11 2021-10-18\n",
      "2021-10-11 2021-11-11\n",
      "2021-10-11 2021-11-11\n",
      "2021-10-11 2021-10-18\n",
      "2021-10-05 2021-11-05\n",
      "2021-10-04 2022-01-02\n",
      "2021-09-27 2021-10-27\n",
      "2021-09-27 2022-09-27\n",
      "2021-09-27 2022-09-27\n",
      "2021-09-27 2021-12-27\n",
      "2021-09-27 2021-10-04\n",
      "2021-09-22 2021-12-22\n",
      "2021-09-21 2021-10-21\n",
      "2021-09-17 2021-10-17\n",
      "2021-08-16 2021-09-16\n",
      "2021-08-16 2022-08-16\n",
      "2021-08-13 2021-08-13\n",
      "2021-08-13 2021-08-13\n",
      "2021-08-13 2021-11-13\n",
      "2021-08-13 2021-02-04\n",
      "2021-08-13 2022-02-13\n",
      "2021-08-13 2022-02-13\n",
      "2021-08-09 2021-08-16\n",
      "2021-07-23 2021-06-15\n",
      "2021-07-08 2021-07-30\n",
      "2021-07-08 2021-07-30\n",
      "2021-07-03 2021-10-03\n",
      "2021-07-01 2021-07-01\n",
      "2021-06-30 2022-06-30\n",
      "2021-06-18 2021-06-18\n",
      "2021-06-15 2021-06-15\n",
      "2021-06-09 2021-07-09\n",
      "2021-06-01 2021-07-01\n",
      "2021-05-31 2022-05-31\n",
      "2021-05-28 2022-02-02\n",
      "2021-05-25 2021-05-25\n",
      "2021-05-25 2021-06-01\n",
      "2021-05-20 2021-05-27\n",
      "2021-04-20 2021-04-27\n",
      "2021-04-20 2021-05-20\n",
      "2021-04-19 2021-05-19\n",
      "2021-04-13 2022-04-13\n",
      "2021-03-23 2022-03-08\n",
      "2021-03-22 2021-03-22\n",
      "2021-03-22 2021-06-22\n",
      "2021-02-27 2021-02-27\n",
      "2021-02-24 2022-02-19\n",
      "2021-02-24 2021-02-24\n",
      "2021-01-04 2021-01-04\n",
      "2021-01-04 2021-01-04\n",
      "2020-10-09 2020-10-09\n",
      "2020-09-23 2020-09-30\n",
      "2020-07-30 2021-07-30\n",
      "2020-07-30 2020-08-06\n",
      "2020-03-15 2020-04-15\n",
      "2020-01-14 2020-01-21\n",
      "2019-12-24 2019-12-31\n",
      "2019-09-05 2020-09-04\n"
     ]
    }
   ],
   "source": []
  },
  {
   "cell_type": "code",
   "execution_count": 122,
   "id": "ab6a967d",
   "metadata": {},
   "outputs": [
    {
     "ename": "KeyError",
     "evalue": "\"['index'] not found in axis\"",
     "output_type": "error",
     "traceback": [
      "\u001b[1;31m---------------------------------------------------------------------------\u001b[0m",
      "\u001b[1;31mKeyError\u001b[0m                                  Traceback (most recent call last)",
      "\u001b[1;32m<ipython-input-122-72fc85bf9715>\u001b[0m in \u001b[0;36m<module>\u001b[1;34m\u001b[0m\n\u001b[1;32m----> 1\u001b[1;33m \u001b[0mdff\u001b[0m \u001b[1;33m=\u001b[0m \u001b[0mdff\u001b[0m\u001b[1;33m.\u001b[0m\u001b[0mdrop\u001b[0m\u001b[1;33m(\u001b[0m\u001b[1;34m'index'\u001b[0m\u001b[1;33m,\u001b[0m\u001b[1;36m1\u001b[0m\u001b[1;33m)\u001b[0m\u001b[1;33m\u001b[0m\u001b[1;33m\u001b[0m\u001b[0m\n\u001b[0m",
      "\u001b[1;32m~\\anaconda3\\lib\\site-packages\\pandas\\core\\frame.py\u001b[0m in \u001b[0;36mdrop\u001b[1;34m(self, labels, axis, index, columns, level, inplace, errors)\u001b[0m\n\u001b[0;32m   4306\u001b[0m                 \u001b[0mweight\u001b[0m  \u001b[1;36m1.0\u001b[0m     \u001b[1;36m0.8\u001b[0m\u001b[1;33m\u001b[0m\u001b[1;33m\u001b[0m\u001b[0m\n\u001b[0;32m   4307\u001b[0m         \"\"\"\n\u001b[1;32m-> 4308\u001b[1;33m         return super().drop(\n\u001b[0m\u001b[0;32m   4309\u001b[0m             \u001b[0mlabels\u001b[0m\u001b[1;33m=\u001b[0m\u001b[0mlabels\u001b[0m\u001b[1;33m,\u001b[0m\u001b[1;33m\u001b[0m\u001b[1;33m\u001b[0m\u001b[0m\n\u001b[0;32m   4310\u001b[0m             \u001b[0maxis\u001b[0m\u001b[1;33m=\u001b[0m\u001b[0maxis\u001b[0m\u001b[1;33m,\u001b[0m\u001b[1;33m\u001b[0m\u001b[1;33m\u001b[0m\u001b[0m\n",
      "\u001b[1;32m~\\anaconda3\\lib\\site-packages\\pandas\\core\\generic.py\u001b[0m in \u001b[0;36mdrop\u001b[1;34m(self, labels, axis, index, columns, level, inplace, errors)\u001b[0m\n\u001b[0;32m   4151\u001b[0m         \u001b[1;32mfor\u001b[0m \u001b[0maxis\u001b[0m\u001b[1;33m,\u001b[0m \u001b[0mlabels\u001b[0m \u001b[1;32min\u001b[0m \u001b[0maxes\u001b[0m\u001b[1;33m.\u001b[0m\u001b[0mitems\u001b[0m\u001b[1;33m(\u001b[0m\u001b[1;33m)\u001b[0m\u001b[1;33m:\u001b[0m\u001b[1;33m\u001b[0m\u001b[1;33m\u001b[0m\u001b[0m\n\u001b[0;32m   4152\u001b[0m             \u001b[1;32mif\u001b[0m \u001b[0mlabels\u001b[0m \u001b[1;32mis\u001b[0m \u001b[1;32mnot\u001b[0m \u001b[1;32mNone\u001b[0m\u001b[1;33m:\u001b[0m\u001b[1;33m\u001b[0m\u001b[1;33m\u001b[0m\u001b[0m\n\u001b[1;32m-> 4153\u001b[1;33m                 \u001b[0mobj\u001b[0m \u001b[1;33m=\u001b[0m \u001b[0mobj\u001b[0m\u001b[1;33m.\u001b[0m\u001b[0m_drop_axis\u001b[0m\u001b[1;33m(\u001b[0m\u001b[0mlabels\u001b[0m\u001b[1;33m,\u001b[0m \u001b[0maxis\u001b[0m\u001b[1;33m,\u001b[0m \u001b[0mlevel\u001b[0m\u001b[1;33m=\u001b[0m\u001b[0mlevel\u001b[0m\u001b[1;33m,\u001b[0m \u001b[0merrors\u001b[0m\u001b[1;33m=\u001b[0m\u001b[0merrors\u001b[0m\u001b[1;33m)\u001b[0m\u001b[1;33m\u001b[0m\u001b[1;33m\u001b[0m\u001b[0m\n\u001b[0m\u001b[0;32m   4154\u001b[0m \u001b[1;33m\u001b[0m\u001b[0m\n\u001b[0;32m   4155\u001b[0m         \u001b[1;32mif\u001b[0m \u001b[0minplace\u001b[0m\u001b[1;33m:\u001b[0m\u001b[1;33m\u001b[0m\u001b[1;33m\u001b[0m\u001b[0m\n",
      "\u001b[1;32m~\\anaconda3\\lib\\site-packages\\pandas\\core\\generic.py\u001b[0m in \u001b[0;36m_drop_axis\u001b[1;34m(self, labels, axis, level, errors)\u001b[0m\n\u001b[0;32m   4186\u001b[0m                 \u001b[0mnew_axis\u001b[0m \u001b[1;33m=\u001b[0m \u001b[0maxis\u001b[0m\u001b[1;33m.\u001b[0m\u001b[0mdrop\u001b[0m\u001b[1;33m(\u001b[0m\u001b[0mlabels\u001b[0m\u001b[1;33m,\u001b[0m \u001b[0mlevel\u001b[0m\u001b[1;33m=\u001b[0m\u001b[0mlevel\u001b[0m\u001b[1;33m,\u001b[0m \u001b[0merrors\u001b[0m\u001b[1;33m=\u001b[0m\u001b[0merrors\u001b[0m\u001b[1;33m)\u001b[0m\u001b[1;33m\u001b[0m\u001b[1;33m\u001b[0m\u001b[0m\n\u001b[0;32m   4187\u001b[0m             \u001b[1;32melse\u001b[0m\u001b[1;33m:\u001b[0m\u001b[1;33m\u001b[0m\u001b[1;33m\u001b[0m\u001b[0m\n\u001b[1;32m-> 4188\u001b[1;33m                 \u001b[0mnew_axis\u001b[0m \u001b[1;33m=\u001b[0m \u001b[0maxis\u001b[0m\u001b[1;33m.\u001b[0m\u001b[0mdrop\u001b[0m\u001b[1;33m(\u001b[0m\u001b[0mlabels\u001b[0m\u001b[1;33m,\u001b[0m \u001b[0merrors\u001b[0m\u001b[1;33m=\u001b[0m\u001b[0merrors\u001b[0m\u001b[1;33m)\u001b[0m\u001b[1;33m\u001b[0m\u001b[1;33m\u001b[0m\u001b[0m\n\u001b[0m\u001b[0;32m   4189\u001b[0m             \u001b[0mresult\u001b[0m \u001b[1;33m=\u001b[0m \u001b[0mself\u001b[0m\u001b[1;33m.\u001b[0m\u001b[0mreindex\u001b[0m\u001b[1;33m(\u001b[0m\u001b[1;33m**\u001b[0m\u001b[1;33m{\u001b[0m\u001b[0maxis_name\u001b[0m\u001b[1;33m:\u001b[0m \u001b[0mnew_axis\u001b[0m\u001b[1;33m}\u001b[0m\u001b[1;33m)\u001b[0m\u001b[1;33m\u001b[0m\u001b[1;33m\u001b[0m\u001b[0m\n\u001b[0;32m   4190\u001b[0m \u001b[1;33m\u001b[0m\u001b[0m\n",
      "\u001b[1;32m~\\anaconda3\\lib\\site-packages\\pandas\\core\\indexes\\base.py\u001b[0m in \u001b[0;36mdrop\u001b[1;34m(self, labels, errors)\u001b[0m\n\u001b[0;32m   5589\u001b[0m         \u001b[1;32mif\u001b[0m \u001b[0mmask\u001b[0m\u001b[1;33m.\u001b[0m\u001b[0many\u001b[0m\u001b[1;33m(\u001b[0m\u001b[1;33m)\u001b[0m\u001b[1;33m:\u001b[0m\u001b[1;33m\u001b[0m\u001b[1;33m\u001b[0m\u001b[0m\n\u001b[0;32m   5590\u001b[0m             \u001b[1;32mif\u001b[0m \u001b[0merrors\u001b[0m \u001b[1;33m!=\u001b[0m \u001b[1;34m\"ignore\"\u001b[0m\u001b[1;33m:\u001b[0m\u001b[1;33m\u001b[0m\u001b[1;33m\u001b[0m\u001b[0m\n\u001b[1;32m-> 5591\u001b[1;33m                 \u001b[1;32mraise\u001b[0m \u001b[0mKeyError\u001b[0m\u001b[1;33m(\u001b[0m\u001b[1;34mf\"{labels[mask]} not found in axis\"\u001b[0m\u001b[1;33m)\u001b[0m\u001b[1;33m\u001b[0m\u001b[1;33m\u001b[0m\u001b[0m\n\u001b[0m\u001b[0;32m   5592\u001b[0m             \u001b[0mindexer\u001b[0m \u001b[1;33m=\u001b[0m \u001b[0mindexer\u001b[0m\u001b[1;33m[\u001b[0m\u001b[1;33m~\u001b[0m\u001b[0mmask\u001b[0m\u001b[1;33m]\u001b[0m\u001b[1;33m\u001b[0m\u001b[1;33m\u001b[0m\u001b[0m\n\u001b[0;32m   5593\u001b[0m         \u001b[1;32mreturn\u001b[0m \u001b[0mself\u001b[0m\u001b[1;33m.\u001b[0m\u001b[0mdelete\u001b[0m\u001b[1;33m(\u001b[0m\u001b[0mindexer\u001b[0m\u001b[1;33m)\u001b[0m\u001b[1;33m\u001b[0m\u001b[1;33m\u001b[0m\u001b[0m\n",
      "\u001b[1;31mKeyError\u001b[0m: \"['index'] not found in axis\""
     ]
    }
   ],
   "source": [
    "dff = dff.drop('index',1)"
   ]
  },
  {
   "cell_type": "code",
   "execution_count": 123,
   "id": "5e796d7d",
   "metadata": {},
   "outputs": [
    {
     "data": {
      "text/plain": [
       "id                            float64\n",
       "budget                          int32\n",
       "niveau4naam                    object\n",
       "land                           object\n",
       "ks_naam                        object\n",
       "datum                          object\n",
       "percentage                      int64\n",
       "rekandidaatstelling_accept      int32\n",
       "calcdeadline                   object\n",
       "dtype: object"
      ]
     },
     "execution_count": 123,
     "metadata": {},
     "output_type": "execute_result"
    }
   ],
   "source": [
    "dff.dtypes"
   ]
  },
  {
   "cell_type": "code",
   "execution_count": 124,
   "id": "3596536d",
   "metadata": {},
   "outputs": [],
   "source": [
    "dff.to_csv(r'C:\\File Name.csv', index = False)"
   ]
  },
  {
   "cell_type": "code",
   "execution_count": 75,
   "id": "c46e9ee5",
   "metadata": {},
   "outputs": [
    {
     "ename": "KeyError",
     "evalue": "'aanmaakdatum'",
     "output_type": "error",
     "traceback": [
      "\u001b[1;31m---------------------------------------------------------------------------\u001b[0m",
      "\u001b[1;31mKeyError\u001b[0m                                  Traceback (most recent call last)",
      "\u001b[1;32m~\\anaconda3\\lib\\site-packages\\pandas\\core\\indexes\\base.py\u001b[0m in \u001b[0;36mget_loc\u001b[1;34m(self, key, method, tolerance)\u001b[0m\n\u001b[0;32m   3079\u001b[0m             \u001b[1;32mtry\u001b[0m\u001b[1;33m:\u001b[0m\u001b[1;33m\u001b[0m\u001b[1;33m\u001b[0m\u001b[0m\n\u001b[1;32m-> 3080\u001b[1;33m                 \u001b[1;32mreturn\u001b[0m \u001b[0mself\u001b[0m\u001b[1;33m.\u001b[0m\u001b[0m_engine\u001b[0m\u001b[1;33m.\u001b[0m\u001b[0mget_loc\u001b[0m\u001b[1;33m(\u001b[0m\u001b[0mcasted_key\u001b[0m\u001b[1;33m)\u001b[0m\u001b[1;33m\u001b[0m\u001b[1;33m\u001b[0m\u001b[0m\n\u001b[0m\u001b[0;32m   3081\u001b[0m             \u001b[1;32mexcept\u001b[0m \u001b[0mKeyError\u001b[0m \u001b[1;32mas\u001b[0m \u001b[0merr\u001b[0m\u001b[1;33m:\u001b[0m\u001b[1;33m\u001b[0m\u001b[1;33m\u001b[0m\u001b[0m\n",
      "\u001b[1;32mpandas\\_libs\\index.pyx\u001b[0m in \u001b[0;36mpandas._libs.index.IndexEngine.get_loc\u001b[1;34m()\u001b[0m\n",
      "\u001b[1;32mpandas\\_libs\\index.pyx\u001b[0m in \u001b[0;36mpandas._libs.index.IndexEngine.get_loc\u001b[1;34m()\u001b[0m\n",
      "\u001b[1;32mpandas\\_libs\\hashtable_class_helper.pxi\u001b[0m in \u001b[0;36mpandas._libs.hashtable.PyObjectHashTable.get_item\u001b[1;34m()\u001b[0m\n",
      "\u001b[1;32mpandas\\_libs\\hashtable_class_helper.pxi\u001b[0m in \u001b[0;36mpandas._libs.hashtable.PyObjectHashTable.get_item\u001b[1;34m()\u001b[0m\n",
      "\u001b[1;31mKeyError\u001b[0m: 'aanmaakdatum'",
      "\nThe above exception was the direct cause of the following exception:\n",
      "\u001b[1;31mKeyError\u001b[0m                                  Traceback (most recent call last)",
      "\u001b[1;32m<ipython-input-75-ce64a27eb0f7>\u001b[0m in \u001b[0;36m<module>\u001b[1;34m\u001b[0m\n\u001b[1;32m----> 1\u001b[1;33m \u001b[0mdff\u001b[0m\u001b[1;33m[\u001b[0m\u001b[1;34m'aanmaakdatum'\u001b[0m\u001b[1;33m]\u001b[0m \u001b[1;33m=\u001b[0m \u001b[0mpd\u001b[0m\u001b[1;33m.\u001b[0m\u001b[0mto_datetime\u001b[0m\u001b[1;33m(\u001b[0m\u001b[0mdff\u001b[0m\u001b[1;33m[\u001b[0m\u001b[1;34m'aanmaakdatum'\u001b[0m\u001b[1;33m]\u001b[0m\u001b[1;33m)\u001b[0m\u001b[1;33m.\u001b[0m\u001b[0mdt\u001b[0m\u001b[1;33m.\u001b[0m\u001b[0mdate\u001b[0m\u001b[1;33m\u001b[0m\u001b[1;33m\u001b[0m\u001b[0m\n\u001b[0m",
      "\u001b[1;32m~\\anaconda3\\lib\\site-packages\\pandas\\core\\frame.py\u001b[0m in \u001b[0;36m__getitem__\u001b[1;34m(self, key)\u001b[0m\n\u001b[0;32m   3022\u001b[0m             \u001b[1;32mif\u001b[0m \u001b[0mself\u001b[0m\u001b[1;33m.\u001b[0m\u001b[0mcolumns\u001b[0m\u001b[1;33m.\u001b[0m\u001b[0mnlevels\u001b[0m \u001b[1;33m>\u001b[0m \u001b[1;36m1\u001b[0m\u001b[1;33m:\u001b[0m\u001b[1;33m\u001b[0m\u001b[1;33m\u001b[0m\u001b[0m\n\u001b[0;32m   3023\u001b[0m                 \u001b[1;32mreturn\u001b[0m \u001b[0mself\u001b[0m\u001b[1;33m.\u001b[0m\u001b[0m_getitem_multilevel\u001b[0m\u001b[1;33m(\u001b[0m\u001b[0mkey\u001b[0m\u001b[1;33m)\u001b[0m\u001b[1;33m\u001b[0m\u001b[1;33m\u001b[0m\u001b[0m\n\u001b[1;32m-> 3024\u001b[1;33m             \u001b[0mindexer\u001b[0m \u001b[1;33m=\u001b[0m \u001b[0mself\u001b[0m\u001b[1;33m.\u001b[0m\u001b[0mcolumns\u001b[0m\u001b[1;33m.\u001b[0m\u001b[0mget_loc\u001b[0m\u001b[1;33m(\u001b[0m\u001b[0mkey\u001b[0m\u001b[1;33m)\u001b[0m\u001b[1;33m\u001b[0m\u001b[1;33m\u001b[0m\u001b[0m\n\u001b[0m\u001b[0;32m   3025\u001b[0m             \u001b[1;32mif\u001b[0m \u001b[0mis_integer\u001b[0m\u001b[1;33m(\u001b[0m\u001b[0mindexer\u001b[0m\u001b[1;33m)\u001b[0m\u001b[1;33m:\u001b[0m\u001b[1;33m\u001b[0m\u001b[1;33m\u001b[0m\u001b[0m\n\u001b[0;32m   3026\u001b[0m                 \u001b[0mindexer\u001b[0m \u001b[1;33m=\u001b[0m \u001b[1;33m[\u001b[0m\u001b[0mindexer\u001b[0m\u001b[1;33m]\u001b[0m\u001b[1;33m\u001b[0m\u001b[1;33m\u001b[0m\u001b[0m\n",
      "\u001b[1;32m~\\anaconda3\\lib\\site-packages\\pandas\\core\\indexes\\base.py\u001b[0m in \u001b[0;36mget_loc\u001b[1;34m(self, key, method, tolerance)\u001b[0m\n\u001b[0;32m   3080\u001b[0m                 \u001b[1;32mreturn\u001b[0m \u001b[0mself\u001b[0m\u001b[1;33m.\u001b[0m\u001b[0m_engine\u001b[0m\u001b[1;33m.\u001b[0m\u001b[0mget_loc\u001b[0m\u001b[1;33m(\u001b[0m\u001b[0mcasted_key\u001b[0m\u001b[1;33m)\u001b[0m\u001b[1;33m\u001b[0m\u001b[1;33m\u001b[0m\u001b[0m\n\u001b[0;32m   3081\u001b[0m             \u001b[1;32mexcept\u001b[0m \u001b[0mKeyError\u001b[0m \u001b[1;32mas\u001b[0m \u001b[0merr\u001b[0m\u001b[1;33m:\u001b[0m\u001b[1;33m\u001b[0m\u001b[1;33m\u001b[0m\u001b[0m\n\u001b[1;32m-> 3082\u001b[1;33m                 \u001b[1;32mraise\u001b[0m \u001b[0mKeyError\u001b[0m\u001b[1;33m(\u001b[0m\u001b[0mkey\u001b[0m\u001b[1;33m)\u001b[0m \u001b[1;32mfrom\u001b[0m \u001b[0merr\u001b[0m\u001b[1;33m\u001b[0m\u001b[1;33m\u001b[0m\u001b[0m\n\u001b[0m\u001b[0;32m   3083\u001b[0m \u001b[1;33m\u001b[0m\u001b[0m\n\u001b[0;32m   3084\u001b[0m         \u001b[1;32mif\u001b[0m \u001b[0mtolerance\u001b[0m \u001b[1;32mis\u001b[0m \u001b[1;32mnot\u001b[0m \u001b[1;32mNone\u001b[0m\u001b[1;33m:\u001b[0m\u001b[1;33m\u001b[0m\u001b[1;33m\u001b[0m\u001b[0m\n",
      "\u001b[1;31mKeyError\u001b[0m: 'aanmaakdatum'"
     ]
    }
   ],
   "source": [
    "dff['aanmaakdatum'] = pd.to_datetime(dff['aanmaakdatum']).dt.date"
   ]
  },
  {
   "cell_type": "code",
   "execution_count": 76,
   "id": "81f796d0",
   "metadata": {},
   "outputs": [
    {
     "data": {
      "text/html": [
       "<div>\n",
       "<style scoped>\n",
       "    .dataframe tbody tr th:only-of-type {\n",
       "        vertical-align: middle;\n",
       "    }\n",
       "\n",
       "    .dataframe tbody tr th {\n",
       "        vertical-align: top;\n",
       "    }\n",
       "\n",
       "    .dataframe thead th {\n",
       "        text-align: right;\n",
       "    }\n",
       "</style>\n",
       "<table border=\"1\" class=\"dataframe\">\n",
       "  <thead>\n",
       "    <tr style=\"text-align: right;\">\n",
       "      <th></th>\n",
       "      <th>id</th>\n",
       "      <th>budget</th>\n",
       "      <th>niveau4naam</th>\n",
       "      <th>land</th>\n",
       "      <th>ks_naam</th>\n",
       "      <th>datum</th>\n",
       "    </tr>\n",
       "  </thead>\n",
       "  <tbody>\n",
       "    <tr>\n",
       "      <th>0</th>\n",
       "      <td>1396053.0</td>\n",
       "      <td>300000</td>\n",
       "      <td>NSF International</td>\n",
       "      <td>Frankrijk</td>\n",
       "      <td>042 Follow up Demo (1, 2 and 3)</td>\n",
       "      <td>2021-11-01</td>\n",
       "    </tr>\n",
       "    <tr>\n",
       "      <th>1</th>\n",
       "      <td>1872343.0</td>\n",
       "      <td>62000</td>\n",
       "      <td>3EC International a. s.</td>\n",
       "      <td>Slowakije</td>\n",
       "      <td>042 Follow up Demo (1, 2 and 3)</td>\n",
       "      <td>2021-11-01</td>\n",
       "    </tr>\n",
       "    <tr>\n",
       "      <th>2</th>\n",
       "      <td>1695811.0</td>\n",
       "      <td>100000</td>\n",
       "      <td>Swiss Safety Center AG</td>\n",
       "      <td>Zwitserland</td>\n",
       "      <td>042 Follow up Demo (1, 2 and 3)</td>\n",
       "      <td>2021-10-28</td>\n",
       "    </tr>\n",
       "    <tr>\n",
       "      <th>3</th>\n",
       "      <td>1643242.0</td>\n",
       "      <td>11000</td>\n",
       "      <td>Trust Conformity Assessment Body</td>\n",
       "      <td>Spanje</td>\n",
       "      <td>070 Contract agreement</td>\n",
       "      <td>2021-10-21</td>\n",
       "    </tr>\n",
       "    <tr>\n",
       "      <th>4</th>\n",
       "      <td>1362929.0</td>\n",
       "      <td>8544</td>\n",
       "      <td>System Certification Services Ltd</td>\n",
       "      <td>Ierland</td>\n",
       "      <td>070 Contract agreement</td>\n",
       "      <td>2021-10-21</td>\n",
       "    </tr>\n",
       "    <tr>\n",
       "      <th>...</th>\n",
       "      <td>...</td>\n",
       "      <td>...</td>\n",
       "      <td>...</td>\n",
       "      <td>...</td>\n",
       "      <td>...</td>\n",
       "      <td>...</td>\n",
       "    </tr>\n",
       "    <tr>\n",
       "      <th>61</th>\n",
       "      <td>1353164.0</td>\n",
       "      <td>80000</td>\n",
       "      <td>TÜV InterCert GmbH</td>\n",
       "      <td>Duitsland</td>\n",
       "      <td>098 Opt-out</td>\n",
       "      <td>2020-07-30</td>\n",
       "    </tr>\n",
       "    <tr>\n",
       "      <th>62</th>\n",
       "      <td>1401602.0</td>\n",
       "      <td>20250</td>\n",
       "      <td>Emirates Safety Laboratory</td>\n",
       "      <td>Verenigde Arabische Emiraten</td>\n",
       "      <td>040 Arrange Demo</td>\n",
       "      <td>2020-03-15</td>\n",
       "    </tr>\n",
       "    <tr>\n",
       "      <th>63</th>\n",
       "      <td>1372566.0</td>\n",
       "      <td>60068</td>\n",
       "      <td>TASNEEF-RINA Business Assurance L.L.C.</td>\n",
       "      <td>Verenigde Arabische Emiraten</td>\n",
       "      <td>095 Signed contract</td>\n",
       "      <td>2020-01-14</td>\n",
       "    </tr>\n",
       "    <tr>\n",
       "      <th>64</th>\n",
       "      <td>1453744.0</td>\n",
       "      <td>10800</td>\n",
       "      <td>DigiTrust B.V.</td>\n",
       "      <td>Nederland</td>\n",
       "      <td>095 Signed contract</td>\n",
       "      <td>2019-12-24</td>\n",
       "    </tr>\n",
       "    <tr>\n",
       "      <th>65</th>\n",
       "      <td>1350055.0</td>\n",
       "      <td>12000</td>\n",
       "      <td>Belgisch Centrum Voor Certificatie</td>\n",
       "      <td>België</td>\n",
       "      <td>091 Keep Alive (nurture)</td>\n",
       "      <td>2019-09-05</td>\n",
       "    </tr>\n",
       "  </tbody>\n",
       "</table>\n",
       "<p>66 rows × 6 columns</p>\n",
       "</div>"
      ],
      "text/plain": [
       "           id  budget                             niveau4naam  \\\n",
       "0   1396053.0  300000                       NSF International   \n",
       "1   1872343.0   62000                 3EC International a. s.   \n",
       "2   1695811.0  100000                  Swiss Safety Center AG   \n",
       "3   1643242.0   11000        Trust Conformity Assessment Body   \n",
       "4   1362929.0    8544       System Certification Services Ltd   \n",
       "..        ...     ...                                     ...   \n",
       "61  1353164.0   80000                      TÜV InterCert GmbH   \n",
       "62  1401602.0   20250              Emirates Safety Laboratory   \n",
       "63  1372566.0   60068  TASNEEF-RINA Business Assurance L.L.C.   \n",
       "64  1453744.0   10800                          DigiTrust B.V.   \n",
       "65  1350055.0   12000      Belgisch Centrum Voor Certificatie   \n",
       "\n",
       "                            land                          ks_naam       datum  \n",
       "0                      Frankrijk  042 Follow up Demo (1, 2 and 3)  2021-11-01  \n",
       "1                      Slowakije  042 Follow up Demo (1, 2 and 3)  2021-11-01  \n",
       "2                    Zwitserland  042 Follow up Demo (1, 2 and 3)  2021-10-28  \n",
       "3                         Spanje           070 Contract agreement  2021-10-21  \n",
       "4                        Ierland           070 Contract agreement  2021-10-21  \n",
       "..                           ...                              ...         ...  \n",
       "61                     Duitsland                      098 Opt-out  2020-07-30  \n",
       "62  Verenigde Arabische Emiraten                 040 Arrange Demo  2020-03-15  \n",
       "63  Verenigde Arabische Emiraten              095 Signed contract  2020-01-14  \n",
       "64                     Nederland              095 Signed contract  2019-12-24  \n",
       "65                        België         091 Keep Alive (nurture)  2019-09-05  \n",
       "\n",
       "[66 rows x 6 columns]"
      ]
     },
     "execution_count": 76,
     "metadata": {},
     "output_type": "execute_result"
    }
   ],
   "source": [
    "dff"
   ]
  },
  {
   "cell_type": "code",
   "execution_count": 62,
   "id": "5d1189d5",
   "metadata": {},
   "outputs": [],
   "source": [
    "dff.to_csv(r'C:\\File Name.csv', index = False)"
   ]
  },
  {
   "cell_type": "code",
   "execution_count": 63,
   "id": "d68063e0",
   "metadata": {},
   "outputs": [
    {
     "data": {
      "text/plain": [
       "id              float64\n",
       "budget            int32\n",
       "niveau4naam      object\n",
       "land             object\n",
       "ks_naam          object\n",
       "aanmaakdatum     object\n",
       "dtype: object"
      ]
     },
     "execution_count": 63,
     "metadata": {},
     "output_type": "execute_result"
    }
   ],
   "source": [
    "dff.dtypes"
   ]
  },
  {
   "cell_type": "code",
   "execution_count": null,
   "id": "4775f7df",
   "metadata": {},
   "outputs": [],
   "source": []
  }
 ],
 "metadata": {
  "kernelspec": {
   "display_name": "Python 3",
   "language": "python",
   "name": "python3"
  },
  "language_info": {
   "codemirror_mode": {
    "name": "ipython",
    "version": 3
   },
   "file_extension": ".py",
   "mimetype": "text/x-python",
   "name": "python",
   "nbconvert_exporter": "python",
   "pygments_lexer": "ipython3",
   "version": "3.8.8"
  }
 },
 "nbformat": 4,
 "nbformat_minor": 5
}
